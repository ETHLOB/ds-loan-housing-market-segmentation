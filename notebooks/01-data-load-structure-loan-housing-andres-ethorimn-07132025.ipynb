{
 "cells": [
  {
   "cell_type": "markdown",
   "id": "dfa76abd",
   "metadata": {},
   "source": [
    "# Loan and housing data —loading and basic structuring\n",
    "\n",
    "---\n",
    "por [<span style=\"font-family:monospace;\">Andres Ethorimn</span>](https://www.linkedin.com/in/ethlob/) 👨🏾‍💻\n",
    "\n",
    "<span style=\"color:green; font-weight:bold;\">Staging:</span> en este notebook vamos a recolectar la información suministrada para este estudio, aplicar técnicas de trasformación báscias y realizar una estrucutración de los datos para su posterior análisis.\n",
    "\n",
    "<span style=\"font-size:small; color:gray;\">*Los notebooks en esta sección son prototipos. Su uso es exclusivo para exploración y aprendizaje, y no están pensado para usarse en producción. Tenga presente que los comentarios de aquí en adelante estarán en inglés por ser el idioma estándar de la industria.*</span>\n"
   ]
  },
  {
   "cell_type": "code",
   "execution_count": 2,
   "id": "6fb7c871",
   "metadata": {},
   "outputs": [],
   "source": [
    "# Import necessary libraries\n",
    "import os\n",
    "import pandas as pd"
   ]
  },
  {
   "cell_type": "code",
   "execution_count": 3,
   "id": "116bc248",
   "metadata": {},
   "outputs": [],
   "source": [
    "# Define useful paths and data directories\n",
    "parent_dir = os.path.dirname(os.getcwd())\n",
    "data_dir = os.path.join(parent_dir, 'data')"
   ]
  },
  {
   "cell_type": "code",
   "execution_count": 3,
   "id": "09fcbe0d",
   "metadata": {},
   "outputs": [],
   "source": [
    "# Extracting column names from the Excel file. We are doing this because of the way the data is structured in the file. However, normal data sources respecting the governance of data should not require this step.\n",
    "names = pd.read_excel(os.path.join(data_dir, 'raw', 'data_prueba_ds_semisenior.xlsx'), nrows=0).columns\n",
    "names = names.str.split(',').tolist()[0]\n",
    "\n",
    "# Setting a convention for the first column name as it may be used as an index\n",
    "names[0] = 'idx'"
   ]
  },
  {
   "cell_type": "code",
   "execution_count": 4,
   "id": "6cad9475",
   "metadata": {},
   "outputs": [],
   "source": [
    "# We do a similar operation to the data extraction operation. I stringly recommned to not use this approach in production code, as it is not robust and could lead to data integrity issues. A great workaround is to user a data orchestration tool such as Apache Airflow, Prefect, or Databricks to automate ETL processes.\n",
    "data = pd.read_excel(os.path.join(data_dir, 'raw', 'data_prueba_ds_semisenior.xlsx'), header=None, skiprows=1)\n",
    "data = pd.DataFrame(data.apply(lambda x: x.str.split(','), axis=1).loc[:, 0].tolist(), columns=names)\n",
    "data = data.replace(['', ' ', 'null', 'NULL', 'None'], pd.NA)\n",
    "\n",
    "# Set the index of the DataFrame to the first column we called\n",
    "data.set_index('idx', inplace=True)"
   ]
  },
  {
   "cell_type": "code",
   "execution_count": 5,
   "id": "f3bc50d6",
   "metadata": {},
   "outputs": [],
   "source": [
    "# Select the numeric columns according to the problem description and the provided data dictionary.\n",
    "numeric_columns = [\n",
    "    'age', 'default', 'balance', 'housing', 'loan', 'duration', 'campaign', 'pdays', 'previous', 'deposit', 'tenencia_ahorros', 'tenencia_corriente', 'tenencia_cdt', 'tenencia_tdc', 'tenencia_lb', 'tenencia_vehiculo', 'ingresos', 'egresos', 'saldo_captacion', 'saldo_tdc', 'monto_trx_tdc', 'cantidad_trx_tdc', 'saldo_lb', 'saldo_veh', 'monto_trx_debito', 'cantidad_trx_debito'\n",
    "]\n",
    "\n",
    "# Reassigning types for the numeric columns\n",
    "data.loc[:, numeric_columns] = data.loc[:, numeric_columns].apply(pd.to_numeric, errors='coerce', downcast='integer', axis=0)"
   ]
  },
  {
   "cell_type": "code",
   "execution_count": null,
   "id": "5075c52e",
   "metadata": {},
   "outputs": [],
   "source": [
    "# Saving data to a new Excel file in the staging directory\n",
    "data.to_excel(os.path.join(data_dir, 'staging', '01_data_prueba_ds_loan_housing_basic_schema.xlsx'), index=True, engine='openpyxl')"
   ]
  },
  {
   "cell_type": "code",
   "execution_count": null,
   "id": "1cb3986a",
   "metadata": {},
   "outputs": [],
   "source": []
  }
 ],
 "metadata": {
  "kernelspec": {
   "display_name": "adl-ds-semisenior-andres-ethorimn",
   "language": "python",
   "name": "python3"
  },
  "language_info": {
   "codemirror_mode": {
    "name": "ipython",
    "version": 3
   },
   "file_extension": ".py",
   "mimetype": "text/x-python",
   "name": "python",
   "nbconvert_exporter": "python",
   "pygments_lexer": "ipython3",
   "version": "3.11.9"
  }
 },
 "nbformat": 4,
 "nbformat_minor": 5
}
